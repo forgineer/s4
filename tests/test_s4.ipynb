{
 "cells": [
  {
   "cell_type": "code",
   "execution_count": null,
   "id": "9da694e4",
   "metadata": {},
   "outputs": [
    {
     "name": "stderr",
     "output_type": "stream",
     "text": [
      "DEBUG:urllib3.connectionpool:Starting new HTTP connection (1): localhost:5000\n",
      "DEBUG:urllib3.connectionpool:http://localhost:5000 \"GET / HTTP/1.1\" 401 32\n"
     ]
    },
    {
     "ename": "ConnectionError",
     "evalue": "Failed to connect to s4 server: {\"error\":\"Invalid secret key.\"}\n",
     "output_type": "error",
     "traceback": [
      "\u001b[31m---------------------------------------------------------------------------\u001b[39m",
      "\u001b[31mConnectionError\u001b[39m                           Traceback (most recent call last)",
      "\u001b[36mCell\u001b[39m\u001b[36m \u001b[39m\u001b[32mIn[2]\u001b[39m\u001b[32m, line 6\u001b[39m\n\u001b[32m      2\u001b[39m \u001b[38;5;28;01mfrom\u001b[39;00m\u001b[38;5;250m \u001b[39m\u001b[34;01ms4\u001b[39;00m\u001b[34;01m.\u001b[39;00m\u001b[34;01mclient\u001b[39;00m\u001b[38;5;250m \u001b[39m\u001b[38;5;28;01mimport\u001b[39;00m s4\n\u001b[32m      4\u001b[39m logging.basicConfig(level=logging.DEBUG)\n\u001b[32m----> \u001b[39m\u001b[32m6\u001b[39m my_s4 = \u001b[43ms4\u001b[49m\u001b[43m(\u001b[49m\u001b[33;43m'\u001b[39;49m\u001b[33;43mhttp://localhost:5000\u001b[39;49m\u001b[33;43m'\u001b[39;49m\u001b[43m,\u001b[49m\u001b[43m \u001b[49m\u001b[43msecret_key\u001b[49m\u001b[43m=\u001b[49m\u001b[33;43m'\u001b[39;49m\u001b[33;43mH7n_Y2qLMcREIz9ofAiWtSlaptaV1ghLkl8veKgLXi4\u001b[39;49m\u001b[33;43m'\u001b[39;49m\u001b[43m)\u001b[49m\n",
      "\u001b[36mFile \u001b[39m\u001b[32m~/GitHub/s4/.venv/lib/python3.13/site-packages/s4/client.py:31\u001b[39m, in \u001b[36ms4.__init__\u001b[39m\u001b[34m(self, url, secret_key)\u001b[39m\n\u001b[32m     28\u001b[39m \u001b[38;5;28mself\u001b[39m.sql_url: \u001b[38;5;28mstr\u001b[39m = \u001b[33mf\u001b[39m\u001b[33m'\u001b[39m\u001b[38;5;132;01m{\u001b[39;00m\u001b[38;5;28mself\u001b[39m.s4_url\u001b[38;5;132;01m}\u001b[39;00m\u001b[33m/api/sql\u001b[39m\u001b[33m'\u001b[39m\n\u001b[32m     30\u001b[39m \u001b[38;5;66;03m# Verify the connection to the s4 server\u001b[39;00m\n\u001b[32m---> \u001b[39m\u001b[32m31\u001b[39m \u001b[38;5;28;43mself\u001b[39;49m\u001b[43m.\u001b[49m\u001b[43mverify_connection\u001b[49m\u001b[43m(\u001b[49m\u001b[43m)\u001b[49m\n",
      "\u001b[36mFile \u001b[39m\u001b[32m~/GitHub/s4/.venv/lib/python3.13/site-packages/s4/client.py:53\u001b[39m, in \u001b[36ms4.verify_connection\u001b[39m\u001b[34m(self)\u001b[39m\n\u001b[32m     50\u001b[39m _response = \u001b[38;5;28mself\u001b[39m.session.get(\u001b[38;5;28mself\u001b[39m.s4_url)\n\u001b[32m     52\u001b[39m \u001b[38;5;28;01mif\u001b[39;00m _response.status_code != \u001b[32m200\u001b[39m:\n\u001b[32m---> \u001b[39m\u001b[32m53\u001b[39m     \u001b[38;5;28;01mraise\u001b[39;00m \u001b[38;5;167;01mConnectionError\u001b[39;00m(\u001b[33mf\u001b[39m\u001b[33m'\u001b[39m\u001b[33mFailed to connect to s4 server: \u001b[39m\u001b[38;5;132;01m{\u001b[39;00m_response.text\u001b[38;5;132;01m}\u001b[39;00m\u001b[33m'\u001b[39m)\n\u001b[32m     55\u001b[39m logging.debug(\u001b[33mf\u001b[39m\u001b[33m'\u001b[39m\u001b[33mConnected to s4 server at \u001b[39m\u001b[38;5;132;01m{\u001b[39;00m\u001b[38;5;28mself\u001b[39m.s4_url\u001b[38;5;132;01m}\u001b[39;00m\u001b[33m: \u001b[39m\u001b[38;5;132;01m{\u001b[39;00m_response.text\u001b[38;5;132;01m}\u001b[39;00m\u001b[33m'\u001b[39m)\n",
      "\u001b[31mConnectionError\u001b[39m: Failed to connect to s4 server: {\"error\":\"Invalid secret key.\"}\n"
     ]
    }
   ],
   "source": [
    "import logging\n",
    "from s4.client import s4\n",
    "\n",
    "logging.basicConfig(level=logging.DEBUG)\n",
    "\n",
    "my_s4 = s4('http://localhost:5000', secret_key='jesR-opYPTMqIH2T7RtoCJ6aLcjqLji4cmmVGylISb0')"
   ]
  },
  {
   "cell_type": "code",
   "execution_count": 5,
   "id": "227ec448",
   "metadata": {},
   "outputs": [
    {
     "name": "stderr",
     "output_type": "stream",
     "text": [
      "DEBUG:urllib3.connectionpool:Resetting dropped connection: localhost\n",
      "DEBUG:urllib3.connectionpool:http://localhost:5000 \"POST /api/sql HTTP/1.1\" 200 148\n",
      "DEBUG:root:Response Status Code: 200\n",
      "DEBUG:root:Response JSON: {'sqlResponse': [{'created_at': '2025-08-17 23:45:53', 'email': 'alice@example.com', 'id': 1, 'password_hash': 'hashed_password_here', 'username': 'alice'}]}\n"
     ]
    }
   ],
   "source": [
    "create_statement: str = \"\"\"\n",
    "    CREATE TABLE users (\n",
    "        id INTEGER PRIMARY KEY AUTOINCREMENT,\n",
    "        username TEXT NOT NULL UNIQUE,\n",
    "        email TEXT NOT NULL UNIQUE,\n",
    "        password_hash TEXT NOT NULL,\n",
    "        created_at TIMESTAMP DEFAULT CURRENT_TIMESTAMP\n",
    "    );\n",
    "\"\"\"\n",
    "\n",
    "insert_statement: str = \"\"\"\n",
    "    INSERT INTO users (username, email, password_hash)\n",
    "    VALUES ('alice', 'alice@example.com', 'hashed_password_here');\n",
    "\"\"\"\n",
    "\n",
    "select_statement: str = \"\"\"\n",
    "    SELECT * FROM users;\n",
    "\"\"\"\n",
    "\n",
    "my_s4.sql(select_statement)"
   ]
  }
 ],
 "metadata": {
  "kernelspec": {
   "display_name": ".venv",
   "language": "python",
   "name": "python3"
  },
  "language_info": {
   "codemirror_mode": {
    "name": "ipython",
    "version": 3
   },
   "file_extension": ".py",
   "mimetype": "text/x-python",
   "name": "python",
   "nbconvert_exporter": "python",
   "pygments_lexer": "ipython3",
   "version": "3.13.5"
  }
 },
 "nbformat": 4,
 "nbformat_minor": 5
}
