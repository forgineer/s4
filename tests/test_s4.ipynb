{
 "cells": [
  {
   "cell_type": "code",
   "execution_count": 1,
   "id": "9da694e4",
   "metadata": {},
   "outputs": [
    {
     "name": "stderr",
     "output_type": "stream",
     "text": [
      "DEBUG:urllib3.connectionpool:Starting new HTTP connection (1): localhost:5000\n",
      "DEBUG:urllib3.connectionpool:http://localhost:5000 \"GET /api/connect HTTP/1.1\" 200 49\n",
      "DEBUG:root:http://localhost:5000: Connection to s4 server established successfully!\n"
     ]
    }
   ],
   "source": [
    "import logging\n",
    "from s4.client import s4\n",
    "\n",
    "logging.basicConfig(level=logging.DEBUG)\n",
    "\n",
    "my_s4 = s4('http://localhost:5000', secret_key='jesR-opYPTMqIH2T7RtoCJ6aLcjqLji4cmmVGylISb0')"
   ]
  },
  {
   "cell_type": "code",
   "execution_count": 5,
   "id": "227ec448",
   "metadata": {},
   "outputs": [
    {
     "name": "stderr",
     "output_type": "stream",
     "text": [
      "DEBUG:urllib3.connectionpool:Resetting dropped connection: localhost\n",
      "DEBUG:urllib3.connectionpool:http://localhost:5000 \"POST /api/sql HTTP/1.1\" 200 148\n"
     ]
    },
    {
     "data": {
      "text/plain": [
       "{'sqlResponse': [{'created_at': '2025-08-19 17:53:47',\n",
       "   'email': 'alice@example.com',\n",
       "   'id': 1,\n",
       "   'password_hash': 'hashed_password_here',\n",
       "   'username': 'alice'}]}"
      ]
     },
     "execution_count": 5,
     "metadata": {},
     "output_type": "execute_result"
    }
   ],
   "source": [
    "create_statement: str = \"\"\"\n",
    "    CREATE TABLE users (\n",
    "        id INTEGER PRIMARY KEY AUTOINCREMENT,\n",
    "        username TEXT NOT NULL UNIQUE,\n",
    "        email TEXT NOT NULL UNIQUE,\n",
    "        password_hash TEXT NOT NULL,\n",
    "        created_at TIMESTAMP DEFAULT CURRENT_TIMESTAMP\n",
    "    );\n",
    "\"\"\"\n",
    "\n",
    "insert_statement: str = \"\"\"\n",
    "    INSERT INTO users (username, email, password_hash)\n",
    "    VALUES ('alice', 'alice@example.com', 'hashed_password_here');\n",
    "\"\"\"\n",
    "\n",
    "select_statement: str = \"\"\"\n",
    "    SELECT * FROM users;\n",
    "\"\"\"\n",
    "\n",
    "my_s4.sql(select_statement)"
   ]
  }
 ],
 "metadata": {
  "kernelspec": {
   "display_name": ".venv",
   "language": "python",
   "name": "python3"
  },
  "language_info": {
   "codemirror_mode": {
    "name": "ipython",
    "version": 3
   },
   "file_extension": ".py",
   "mimetype": "text/x-python",
   "name": "python",
   "nbconvert_exporter": "python",
   "pygments_lexer": "ipython3",
   "version": "3.13.5"
  }
 },
 "nbformat": 4,
 "nbformat_minor": 5
}
