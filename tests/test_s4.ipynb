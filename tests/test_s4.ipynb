{
 "cells": [
  {
   "cell_type": "code",
   "execution_count": 2,
   "id": "9da694e4",
   "metadata": {},
   "outputs": [
    {
     "name": "stderr",
     "output_type": "stream",
     "text": [
      "DEBUG:urllib3.connectionpool:Starting new HTTP connection (1): 192.168.1.99:5000\n",
      "DEBUG:urllib3.connectionpool:http://192.168.1.99:5000 \"GET /api/connect HTTP/1.1\" 200 49\n",
      "DEBUG:root:http://192.168.1.99:5000: Connection to s4 server established successfully!\n"
     ]
    }
   ],
   "source": [
    "import logging\n",
    "from s4.client import s4\n",
    "\n",
    "logging.basicConfig(level=logging.DEBUG)\n",
    "\n",
    "my_s4 = s4('http://192.168.1.99:5000')"
   ]
  },
  {
   "cell_type": "code",
   "execution_count": null,
   "id": "227ec448",
   "metadata": {},
   "outputs": [
    {
     "name": "stderr",
     "output_type": "stream",
     "text": [
      "DEBUG:urllib3.connectionpool:Resetting dropped connection: 192.168.1.99\n",
      "DEBUG:urllib3.connectionpool:http://192.168.1.99:5000 \"POST /api/sql HTTP/1.1\" 200 33\n"
     ]
    },
    {
     "data": {
      "text/plain": [
       "{'error': 'no such table: users'}"
      ]
     },
     "execution_count": 4,
     "metadata": {},
     "output_type": "execute_result"
    }
   ],
   "source": [
    "create_statement: str = \"\"\"\n",
    "    CREATE TABLE users (\n",
    "        id INTEGER PRIMARY KEY AUTOINCREMENT,\n",
    "        username TEXT NOT NULL UNIQUE,\n",
    "        email TEXT NOT NULL UNIQUE,\n",
    "        password_hash TEXT NOT NULL,\n",
    "        created_at TIMESTAMP DEFAULT CURRENT_TIMESTAMP\n",
    "    );\n",
    "\"\"\"\n",
    "\n",
    "insert_statement: str = \"\"\"\n",
    "    INSERT INTO users (username, email, password_hash)\n",
    "    VALUES ('alice', 'alice@example.com', 'hashed_password_here');\n",
    "\"\"\"\n",
    "\n",
    "select_statement: str = \"\"\"\n",
    "    SELECT * FROM users;\n",
    "\"\"\"\n",
    "\n",
    "my_s4.sql(create_statement)\n",
    "#my_s4.sql(\"SELECT name FROM sqlite_master WHERE type='table';\")"
   ]
  }
 ],
 "metadata": {
  "kernelspec": {
   "display_name": ".venv",
   "language": "python",
   "name": "python3"
  },
  "language_info": {
   "codemirror_mode": {
    "name": "ipython",
    "version": 3
   },
   "file_extension": ".py",
   "mimetype": "text/x-python",
   "name": "python",
   "nbconvert_exporter": "python",
   "pygments_lexer": "ipython3",
   "version": "3.13.5"
  }
 },
 "nbformat": 4,
 "nbformat_minor": 5
}
