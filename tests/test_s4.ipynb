{
 "cells": [
  {
   "cell_type": "code",
   "execution_count": 1,
   "id": "9da694e4",
   "metadata": {},
   "outputs": [
    {
     "name": "stderr",
     "output_type": "stream",
     "text": [
      "DEBUG:urllib3.connectionpool:Starting new HTTP connection (1): localhost:5000\n",
      "DEBUG:urllib3.connectionpool:http://localhost:5000 \"GET / HTTP/1.1\" 200 37\n",
      "DEBUG:root:Connected to s4 server at http://localhost:5000: Welcome to s4! The server is running!\n"
     ]
    }
   ],
   "source": [
    "import logging\n",
    "from s4.client import s4\n",
    "\n",
    "logging.basicConfig(level=logging.DEBUG)\n",
    "\n",
    "my_s4 = s4('http://localhost:5000', secret_key='H7n_Y2qLMcREIz9ofAiWtSlaptaV1ghLkl8veKgLXi4')"
   ]
  },
  {
   "cell_type": "code",
   "execution_count": 5,
   "id": "227ec448",
   "metadata": {},
   "outputs": [
    {
     "name": "stderr",
     "output_type": "stream",
     "text": [
      "DEBUG:urllib3.connectionpool:Resetting dropped connection: localhost\n",
      "DEBUG:urllib3.connectionpool:http://localhost:5000 \"POST /api/sql HTTP/1.1\" 200 148\n",
      "DEBUG:root:Response Status Code: 200\n",
      "DEBUG:root:Response JSON: {'sqlResponse': [{'created_at': '2025-08-17 23:45:53', 'email': 'alice@example.com', 'id': 1, 'password_hash': 'hashed_password_here', 'username': 'alice'}]}\n"
     ]
    }
   ],
   "source": [
    "create_statement: str = \"\"\"\n",
    "    CREATE TABLE users (\n",
    "        id INTEGER PRIMARY KEY AUTOINCREMENT,\n",
    "        username TEXT NOT NULL UNIQUE,\n",
    "        email TEXT NOT NULL UNIQUE,\n",
    "        password_hash TEXT NOT NULL,\n",
    "        created_at TIMESTAMP DEFAULT CURRENT_TIMESTAMP\n",
    "    );\n",
    "\"\"\"\n",
    "\n",
    "insert_statement: str = \"\"\"\n",
    "    INSERT INTO users (username, email, password_hash)\n",
    "    VALUES ('alice', 'alice@example.com', 'hashed_password_here');\n",
    "\"\"\"\n",
    "\n",
    "select_statement: str = \"\"\"\n",
    "    SELECT * FROM users;\n",
    "\"\"\"\n",
    "\n",
    "my_s4.sql(select_statement)"
   ]
  }
 ],
 "metadata": {
  "kernelspec": {
   "display_name": ".venv",
   "language": "python",
   "name": "python3"
  },
  "language_info": {
   "codemirror_mode": {
    "name": "ipython",
    "version": 3
   },
   "file_extension": ".py",
   "mimetype": "text/x-python",
   "name": "python",
   "nbconvert_exporter": "python",
   "pygments_lexer": "ipython3",
   "version": "3.11.9"
  }
 },
 "nbformat": 4,
 "nbformat_minor": 5
}
